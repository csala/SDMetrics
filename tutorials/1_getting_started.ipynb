{
 "cells": [
  {
   "cell_type": "markdown",
   "metadata": {
    "slideshow": {
     "slide_type": "slide"
    }
   },
   "source": [
    "# Getting Started\n",
    "In this post, we'll demonstrate some of the core functionality of the **SDMetrics** library by using it to evaluate a synthetic dataset."
   ]
  },
  {
   "cell_type": "code",
   "execution_count": 1,
   "metadata": {
    "nbsphinx": "hidden"
   },
   "outputs": [],
   "source": [
    "import warnings\n",
    "warnings.filterwarnings(\"ignore\")"
   ]
  },
  {
   "cell_type": "markdown",
   "metadata": {
    "slideshow": {
     "slide_type": "slide"
    }
   },
   "source": [
    "## Generating Synthetic Datasets\n",
    "The **SDV** library provides tools for generating synthetic relational databases. Let's start by loading the Walmart dataset and generating a synthetic copy with 20 rows in the root table."
   ]
  },
  {
   "cell_type": "code",
   "execution_count": 2,
   "metadata": {},
   "outputs": [
    {
     "name": "stdout",
     "output_type": "stream",
     "text": [
      "> stores\n",
      " Store Type    Size\n",
      "     1    A  151315\n",
      "     2    A  202307\n",
      "     3    B   37392\n",
      "     4    A  205863\n",
      "     5    B   34875\n",
      "\n",
      "> features\n",
      " Store       Date  Temperature  Fuel_Price  MarkDown1  MarkDown2  MarkDown3  MarkDown4  MarkDown5         CPI  Unemployment  IsHoliday\n",
      "     1 2010-02-05        42.31       2.572        NaN        NaN        NaN        NaN        NaN  211.096358         8.106      False\n",
      "     1 2010-02-12        38.51       2.548        NaN        NaN        NaN        NaN        NaN  211.242170         8.106       True\n",
      "     1 2010-02-19        39.93       2.514        NaN        NaN        NaN        NaN        NaN  211.289143         8.106      False\n",
      "     1 2010-02-26        46.63       2.561        NaN        NaN        NaN        NaN        NaN  211.319643         8.106      False\n",
      "     1 2010-03-05        46.50       2.625        NaN        NaN        NaN        NaN        NaN  211.350143         8.106      False\n",
      "\n",
      "> depts\n",
      " Store  Dept       Date  Weekly_Sales  IsHoliday\n",
      "     1     1 2010-02-05      24924.50      False\n",
      "     1     1 2010-02-12      46039.49       True\n",
      "     1     1 2010-02-19      41595.55      False\n",
      "     1     1 2010-02-26      19403.54      False\n",
      "     1     1 2010-03-05      21827.90      False\n",
      "\n"
     ]
    }
   ],
   "source": [
    "from sdv import load_demo\n",
    "\n",
    "metadata, real_tables = load_demo(\"walmart\", metadata=True)\n",
    "for table_name, df in real_tables.items():\n",
    "    print(\">\", table_name)\n",
    "    print(df.head().to_string(index=False))\n",
    "    print()"
   ]
  },
  {
   "cell_type": "code",
   "execution_count": 3,
   "metadata": {},
   "outputs": [
    {
     "name": "stdout",
     "output_type": "stream",
     "text": [
      "> stores\n",
      "Type    Size  Store\n",
      "   A  207995      0\n",
      "   B   32196      1\n",
      "   A  167793      2\n",
      "   C   80005      3\n",
      "   B   -5629      4\n",
      "\n",
      "> depts\n",
      "      Date  Weekly_Sales  Store  Dept  IsHoliday\n",
      "2012-06-14  22676.383447      0    40      False\n",
      "2010-01-19  30608.735599      0     0      False\n",
      "2010-07-09  47041.944222      0    44      False\n",
      "2011-01-15 -18323.289581      0    29      False\n",
      "2010-12-09  36644.770535      0    34      False\n",
      "\n",
      "> features\n",
      "      Date     MarkDown1  Store  IsHoliday     MarkDown4     MarkDown3  Fuel_Price  Unemployment  Temperature    MarkDown5    MarkDown2         CPI\n",
      "2012-04-26           NaN      0      False           NaN           NaN    3.288192      6.010391    72.591493          NaN          NaN  179.164693\n",
      "2011-04-06           NaN      0      False           NaN           NaN    3.045774      5.157241    55.664719  4807.034687          NaN  165.009296\n",
      "2013-05-29   8302.469782      0      False -10374.725318 -10788.415997    2.911910      5.228334    44.507860  7380.734268  6800.109726  186.870072\n",
      "2011-04-04           NaN      0      False           NaN           NaN    2.471365      3.800293    27.853477  4891.973272          NaN  162.518576\n",
      "2012-05-20  11236.484070      0      False   5311.709827  -1992.581644    3.028677      5.128679    43.246204  3065.940709  5634.075886  178.564764\n",
      "\n"
     ]
    }
   ],
   "source": [
    "from sdv import SDV\n",
    "\n",
    "sdv = SDV()\n",
    "sdv.fit(metadata, real_tables)\n",
    "\n",
    "synthetic_tables = sdv.sample_all(100)\n",
    "for table_name, df in synthetic_tables.items():\n",
    "    print(\">\", table_name)\n",
    "    print(df.head().to_string(index=False))\n",
    "    print()"
   ]
  },
  {
   "cell_type": "markdown",
   "metadata": {},
   "source": [
    "## Evaluation with SDMetrics\n",
    "Now that we have (1) a metadata object, (2) a set of real tables, and (3) a set of fake tables, we can pass them to **SDMetrics** for evaluation. The simplest way to get started with **SDMetrics** is to use the `evaluate` function which generates a report with the default metrics."
   ]
  },
  {
   "cell_type": "code",
   "execution_count": 4,
   "metadata": {},
   "outputs": [
    {
     "data": {
      "text/plain": [
       "<sdmetrics.report.MetricsReport at 0x7f711c1a9790>"
      ]
     },
     "execution_count": 4,
     "metadata": {},
     "output_type": "execute_result"
    }
   ],
   "source": [
    "from sdmetrics import evaluate\n",
    "report = evaluate(metadata, real_tables, synthetic_tables)\n",
    "report"
   ]
  },
  {
   "cell_type": "markdown",
   "metadata": {
    "slideshow": {
     "slide_type": "fragment"
    }
   },
   "source": [
    "The metrics report can provide an **overall score**. This is a single scalar value which you can pass to an optimization routine (i.e. to tune some hyperparameters in your model)."
   ]
  },
  {
   "cell_type": "code",
   "execution_count": 5,
   "metadata": {},
   "outputs": [
    {
     "name": "stdout",
     "output_type": "stream",
     "text": [
      "-58.03071382665472\n"
     ]
    }
   ],
   "source": [
    "print(report.overall())"
   ]
  },
  {
   "cell_type": "markdown",
   "metadata": {
    "slideshow": {
     "slide_type": "slide"
    }
   },
   "source": [
    "Furthermore, the metrics report can also provide some key highlights. This shows the problem areas where your model performs especially poorly - for example, the below highlights suggest that our model is very bad at modeling the `MarkDownX` columns since the kstest has detected that the distributions look quite different between the real and synthetic versions."
   ]
  },
  {
   "cell_type": "code",
   "execution_count": 6,
   "metadata": {},
   "outputs": [
    {
     "data": {
      "text/html": [
       "<div>\n",
       "<style scoped>\n",
       "    .dataframe tbody tr th:only-of-type {\n",
       "        vertical-align: middle;\n",
       "    }\n",
       "\n",
       "    .dataframe tbody tr th {\n",
       "        vertical-align: top;\n",
       "    }\n",
       "\n",
       "    .dataframe thead th {\n",
       "        text-align: right;\n",
       "    }\n",
       "</style>\n",
       "<table border=\"1\" class=\"dataframe\">\n",
       "  <thead>\n",
       "    <tr style=\"text-align: right;\">\n",
       "      <th></th>\n",
       "      <th>Name</th>\n",
       "      <th>Value</th>\n",
       "      <th>Goal</th>\n",
       "      <th>Unit</th>\n",
       "      <th>Tables</th>\n",
       "      <th>Columns</th>\n",
       "      <th>Misc. Tags</th>\n",
       "    </tr>\n",
       "  </thead>\n",
       "  <tbody>\n",
       "    <tr>\n",
       "      <th>0</th>\n",
       "      <td>kstest</td>\n",
       "      <td>1.267778e-25</td>\n",
       "      <td>Goal.MAXIMIZE</td>\n",
       "      <td>p-value</td>\n",
       "      <td>table:features</td>\n",
       "      <td>column:MarkDown1</td>\n",
       "      <td>statistic:univariate,priority:high</td>\n",
       "    </tr>\n",
       "    <tr>\n",
       "      <th>1</th>\n",
       "      <td>kstest</td>\n",
       "      <td>5.447462e-47</td>\n",
       "      <td>Goal.MAXIMIZE</td>\n",
       "      <td>p-value</td>\n",
       "      <td>table:features</td>\n",
       "      <td>column:MarkDown4</td>\n",
       "      <td>statistic:univariate,priority:high</td>\n",
       "    </tr>\n",
       "    <tr>\n",
       "      <th>2</th>\n",
       "      <td>kstest</td>\n",
       "      <td>9.307249e-189</td>\n",
       "      <td>Goal.MAXIMIZE</td>\n",
       "      <td>p-value</td>\n",
       "      <td>table:features</td>\n",
       "      <td>column:MarkDown3</td>\n",
       "      <td>statistic:univariate,priority:high</td>\n",
       "    </tr>\n",
       "    <tr>\n",
       "      <th>3</th>\n",
       "      <td>kstest</td>\n",
       "      <td>3.721391e-52</td>\n",
       "      <td>Goal.MAXIMIZE</td>\n",
       "      <td>p-value</td>\n",
       "      <td>table:features</td>\n",
       "      <td>column:Fuel_Price</td>\n",
       "      <td>statistic:univariate,priority:high</td>\n",
       "    </tr>\n",
       "    <tr>\n",
       "      <th>4</th>\n",
       "      <td>kstest</td>\n",
       "      <td>1.405979e-103</td>\n",
       "      <td>Goal.MAXIMIZE</td>\n",
       "      <td>p-value</td>\n",
       "      <td>table:features</td>\n",
       "      <td>column:Unemployment</td>\n",
       "      <td>statistic:univariate,priority:high</td>\n",
       "    </tr>\n",
       "    <tr>\n",
       "      <th>5</th>\n",
       "      <td>kstest</td>\n",
       "      <td>4.811750e-06</td>\n",
       "      <td>Goal.MAXIMIZE</td>\n",
       "      <td>p-value</td>\n",
       "      <td>table:features</td>\n",
       "      <td>column:Temperature</td>\n",
       "      <td>statistic:univariate,priority:high</td>\n",
       "    </tr>\n",
       "    <tr>\n",
       "      <th>6</th>\n",
       "      <td>kstest</td>\n",
       "      <td>9.917225e-14</td>\n",
       "      <td>Goal.MAXIMIZE</td>\n",
       "      <td>p-value</td>\n",
       "      <td>table:features</td>\n",
       "      <td>column:MarkDown5</td>\n",
       "      <td>statistic:univariate,priority:high</td>\n",
       "    </tr>\n",
       "    <tr>\n",
       "      <th>7</th>\n",
       "      <td>kstest</td>\n",
       "      <td>1.679123e-66</td>\n",
       "      <td>Goal.MAXIMIZE</td>\n",
       "      <td>p-value</td>\n",
       "      <td>table:features</td>\n",
       "      <td>column:MarkDown2</td>\n",
       "      <td>statistic:univariate,priority:high</td>\n",
       "    </tr>\n",
       "    <tr>\n",
       "      <th>8</th>\n",
       "      <td>kstest</td>\n",
       "      <td>0.000000e+00</td>\n",
       "      <td>Goal.MAXIMIZE</td>\n",
       "      <td>p-value</td>\n",
       "      <td>table:features</td>\n",
       "      <td>column:CPI</td>\n",
       "      <td>statistic:univariate,priority:high</td>\n",
       "    </tr>\n",
       "    <tr>\n",
       "      <th>9</th>\n",
       "      <td>kstest</td>\n",
       "      <td>0.000000e+00</td>\n",
       "      <td>Goal.MAXIMIZE</td>\n",
       "      <td>p-value</td>\n",
       "      <td>table:depts</td>\n",
       "      <td>column:Weekly_Sales</td>\n",
       "      <td>statistic:univariate,priority:high</td>\n",
       "    </tr>\n",
       "    <tr>\n",
       "      <th>10</th>\n",
       "      <td>kstest</td>\n",
       "      <td>0.000000e+00</td>\n",
       "      <td>Goal.MAXIMIZE</td>\n",
       "      <td>p-value</td>\n",
       "      <td>table:depts</td>\n",
       "      <td>column:Dept</td>\n",
       "      <td>statistic:univariate,priority:high</td>\n",
       "    </tr>\n",
       "  </tbody>\n",
       "</table>\n",
       "</div>"
      ],
      "text/plain": [
       "      Name          Value           Goal     Unit          Tables  \\\n",
       "0   kstest   1.267778e-25  Goal.MAXIMIZE  p-value  table:features   \n",
       "1   kstest   5.447462e-47  Goal.MAXIMIZE  p-value  table:features   \n",
       "2   kstest  9.307249e-189  Goal.MAXIMIZE  p-value  table:features   \n",
       "3   kstest   3.721391e-52  Goal.MAXIMIZE  p-value  table:features   \n",
       "4   kstest  1.405979e-103  Goal.MAXIMIZE  p-value  table:features   \n",
       "5   kstest   4.811750e-06  Goal.MAXIMIZE  p-value  table:features   \n",
       "6   kstest   9.917225e-14  Goal.MAXIMIZE  p-value  table:features   \n",
       "7   kstest   1.679123e-66  Goal.MAXIMIZE  p-value  table:features   \n",
       "8   kstest   0.000000e+00  Goal.MAXIMIZE  p-value  table:features   \n",
       "9   kstest   0.000000e+00  Goal.MAXIMIZE  p-value     table:depts   \n",
       "10  kstest   0.000000e+00  Goal.MAXIMIZE  p-value     table:depts   \n",
       "\n",
       "                Columns                          Misc. Tags  \n",
       "0      column:MarkDown1  statistic:univariate,priority:high  \n",
       "1      column:MarkDown4  statistic:univariate,priority:high  \n",
       "2      column:MarkDown3  statistic:univariate,priority:high  \n",
       "3     column:Fuel_Price  statistic:univariate,priority:high  \n",
       "4   column:Unemployment  statistic:univariate,priority:high  \n",
       "5    column:Temperature  statistic:univariate,priority:high  \n",
       "6      column:MarkDown5  statistic:univariate,priority:high  \n",
       "7      column:MarkDown2  statistic:univariate,priority:high  \n",
       "8            column:CPI  statistic:univariate,priority:high  \n",
       "9   column:Weekly_Sales  statistic:univariate,priority:high  \n",
       "10          column:Dept  statistic:univariate,priority:high  "
      ]
     },
     "execution_count": 6,
     "metadata": {},
     "output_type": "execute_result"
    }
   ],
   "source": [
    "report.highlights()"
   ]
  },
  {
   "cell_type": "markdown",
   "metadata": {
    "slideshow": {
     "slide_type": "slide"
    }
   },
   "source": [
    "In addition, you will also be able to generate a visualization of the metrics."
   ]
  },
  {
   "cell_type": "code",
   "execution_count": 7,
   "metadata": {},
   "outputs": [
    {
     "data": {
      "image/png": "[encoded data removed]",
      "text/plain": [
       "<Figure size 720x864 with 4 Axes>"
      ]
     },
     "metadata": {},
     "output_type": "display_data"
    }
   ],
   "source": [
    "%matplotlib inline\n",
    "report.visualize().savefig(\"../resources/visualize.png\");"
   ]
  },
  {
   "cell_type": "markdown",
   "metadata": {
    "slideshow": {
     "slide_type": "slide"
    }
   },
   "source": [
    "Finally, you can also print a detailed report containing all of the metrics that were computed."
   ]
  },
  {
   "cell_type": "code",
   "execution_count": 8,
   "metadata": {},
   "outputs": [
    {
     "data": {
      "text/html": [
       "<div>\n",
       "<style scoped>\n",
       "    .dataframe tbody tr th:only-of-type {\n",
       "        vertical-align: middle;\n",
       "    }\n",
       "\n",
       "    .dataframe tbody tr th {\n",
       "        vertical-align: top;\n",
       "    }\n",
       "\n",
       "    .dataframe thead th {\n",
       "        text-align: right;\n",
       "    }\n",
       "</style>\n",
       "<table border=\"1\" class=\"dataframe\">\n",
       "  <thead>\n",
       "    <tr style=\"text-align: right;\">\n",
       "      <th></th>\n",
       "      <th>Name</th>\n",
       "      <th>Value</th>\n",
       "      <th>Goal</th>\n",
       "      <th>Unit</th>\n",
       "      <th>Tables</th>\n",
       "      <th>Columns</th>\n",
       "      <th>Misc. Tags</th>\n",
       "    </tr>\n",
       "  </thead>\n",
       "  <tbody>\n",
       "    <tr>\n",
       "      <th>0</th>\n",
       "      <td>foreign-key</td>\n",
       "      <td>1.000000</td>\n",
       "      <td>Goal.MAXIMIZE</td>\n",
       "      <td>binary</td>\n",
       "      <td>table:stores</td>\n",
       "      <td></td>\n",
       "      <td>child:depts</td>\n",
       "    </tr>\n",
       "    <tr>\n",
       "      <th>1</th>\n",
       "      <td>foreign-key</td>\n",
       "      <td>1.000000</td>\n",
       "      <td>Goal.MAXIMIZE</td>\n",
       "      <td>binary</td>\n",
       "      <td>table:stores</td>\n",
       "      <td></td>\n",
       "      <td>child:features</td>\n",
       "    </tr>\n",
       "    <tr>\n",
       "      <th>2</th>\n",
       "      <td>logistic</td>\n",
       "      <td>0.623113</td>\n",
       "      <td>Goal.MINIMIZE</td>\n",
       "      <td>auroc</td>\n",
       "      <td>table:stores</td>\n",
       "      <td></td>\n",
       "      <td>detection:auroc</td>\n",
       "    </tr>\n",
       "    <tr>\n",
       "      <th>3</th>\n",
       "      <td>logistic</td>\n",
       "      <td>0.549581</td>\n",
       "      <td>Goal.MINIMIZE</td>\n",
       "      <td>auroc</td>\n",
       "      <td>table:features</td>\n",
       "      <td></td>\n",
       "      <td>detection:auroc</td>\n",
       "    </tr>\n",
       "    <tr>\n",
       "      <th>4</th>\n",
       "      <td>logistic</td>\n",
       "      <td>0.504133</td>\n",
       "      <td>Goal.MINIMIZE</td>\n",
       "      <td>auroc</td>\n",
       "      <td>table:depts</td>\n",
       "      <td></td>\n",
       "      <td>detection:auroc</td>\n",
       "    </tr>\n",
       "    <tr>\n",
       "      <th>...</th>\n",
       "      <td>...</td>\n",
       "      <td>...</td>\n",
       "      <td>...</td>\n",
       "      <td>...</td>\n",
       "      <td>...</td>\n",
       "      <td>...</td>\n",
       "      <td>...</td>\n",
       "    </tr>\n",
       "    <tr>\n",
       "      <th>90</th>\n",
       "      <td>continuous-kl</td>\n",
       "      <td>5.588091</td>\n",
       "      <td>Goal.MINIMIZE</td>\n",
       "      <td>entropy</td>\n",
       "      <td>table:features</td>\n",
       "      <td>column:Fuel_Price,column:CPI</td>\n",
       "      <td>statistic:bivariate</td>\n",
       "    </tr>\n",
       "    <tr>\n",
       "      <th>91</th>\n",
       "      <td>continuous-kl</td>\n",
       "      <td>5.361223</td>\n",
       "      <td>Goal.MINIMIZE</td>\n",
       "      <td>entropy</td>\n",
       "      <td>table:features</td>\n",
       "      <td>column:Unemployment,column:CPI</td>\n",
       "      <td>statistic:bivariate</td>\n",
       "    </tr>\n",
       "    <tr>\n",
       "      <th>92</th>\n",
       "      <td>continuous-kl</td>\n",
       "      <td>2.624502</td>\n",
       "      <td>Goal.MINIMIZE</td>\n",
       "      <td>entropy</td>\n",
       "      <td>table:features</td>\n",
       "      <td>column:Temperature,column:CPI</td>\n",
       "      <td>statistic:bivariate</td>\n",
       "    </tr>\n",
       "    <tr>\n",
       "      <th>93</th>\n",
       "      <td>continuous-kl</td>\n",
       "      <td>2.032567</td>\n",
       "      <td>Goal.MINIMIZE</td>\n",
       "      <td>entropy</td>\n",
       "      <td>table:features</td>\n",
       "      <td>column:CPI,column:MarkDown5</td>\n",
       "      <td>statistic:bivariate</td>\n",
       "    </tr>\n",
       "    <tr>\n",
       "      <th>94</th>\n",
       "      <td>continuous-kl</td>\n",
       "      <td>2.248045</td>\n",
       "      <td>Goal.MINIMIZE</td>\n",
       "      <td>entropy</td>\n",
       "      <td>table:features</td>\n",
       "      <td>column:MarkDown2,column:CPI</td>\n",
       "      <td>statistic:bivariate</td>\n",
       "    </tr>\n",
       "  </tbody>\n",
       "</table>\n",
       "<p>95 rows × 7 columns</p>\n",
       "</div>"
      ],
      "text/plain": [
       "             Name     Value           Goal     Unit          Tables  \\\n",
       "0     foreign-key  1.000000  Goal.MAXIMIZE   binary    table:stores   \n",
       "1     foreign-key  1.000000  Goal.MAXIMIZE   binary    table:stores   \n",
       "2        logistic  0.623113  Goal.MINIMIZE    auroc    table:stores   \n",
       "3        logistic  0.549581  Goal.MINIMIZE    auroc  table:features   \n",
       "4        logistic  0.504133  Goal.MINIMIZE    auroc     table:depts   \n",
       "..            ...       ...            ...      ...             ...   \n",
       "90  continuous-kl  5.588091  Goal.MINIMIZE  entropy  table:features   \n",
       "91  continuous-kl  5.361223  Goal.MINIMIZE  entropy  table:features   \n",
       "92  continuous-kl  2.624502  Goal.MINIMIZE  entropy  table:features   \n",
       "93  continuous-kl  2.032567  Goal.MINIMIZE  entropy  table:features   \n",
       "94  continuous-kl  2.248045  Goal.MINIMIZE  entropy  table:features   \n",
       "\n",
       "                           Columns           Misc. Tags  \n",
       "0                                           child:depts  \n",
       "1                                        child:features  \n",
       "2                                       detection:auroc  \n",
       "3                                       detection:auroc  \n",
       "4                                       detection:auroc  \n",
       "..                             ...                  ...  \n",
       "90    column:Fuel_Price,column:CPI  statistic:bivariate  \n",
       "91  column:Unemployment,column:CPI  statistic:bivariate  \n",
       "92   column:Temperature,column:CPI  statistic:bivariate  \n",
       "93     column:CPI,column:MarkDown5  statistic:bivariate  \n",
       "94     column:MarkDown2,column:CPI  statistic:bivariate  \n",
       "\n",
       "[95 rows x 7 columns]"
      ]
     },
     "execution_count": 8,
     "metadata": {},
     "output_type": "execute_result"
    }
   ],
   "source": [
    "report.details()"
   ]
  }
 ],
 "metadata": {
  "file_extension": ".py",
  "kernelspec": {
   "display_name": "Python 3",
   "language": "python",
   "name": "python3"
  },
  "language_info": {
   "codemirror_mode": {
    "name": "ipython",
    "version": 3
   },
   "file_extension": ".py",
   "mimetype": "text/x-python",
   "name": "python",
   "nbconvert_exporter": "python",
   "pygments_lexer": "ipython3",
   "version": "3.8.6"
  },
  "mimetype": "text/x-python",
  "name": "python",
  "npconvert_exporter": "python",
  "pygments_lexer": "ipython3",
  "version": 3
 },
 "nbformat": 4,
 "nbformat_minor": 4
}
